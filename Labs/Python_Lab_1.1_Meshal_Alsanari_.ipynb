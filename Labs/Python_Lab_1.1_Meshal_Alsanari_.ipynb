{
 "cells": [
  {
   "cell_type": "markdown",
   "metadata": {},
   "source": [
    "# Python_Lab_1.1\n"
   ]
  },
  {
   "cell_type": "markdown",
   "metadata": {},
   "source": [
    "### Task 1\n",
    "1. Print a welcome message.\n",
    "2. Create variables to store the following details:\n",
    "    - Your name (string)\n",
    "    - Your age (integer)\n",
    "    - Your height (float)\n",
    "    - Whether you are a student (boolean)\n",
    "3. Print these details.\n"
   ]
  },
  {
   "cell_type": "code",
   "execution_count": 2,
   "metadata": {},
   "outputs": [
    {
     "name": "stdout",
     "output_type": "stream",
     "text": [
      "welcome\n",
      "<class 'str'>\n",
      "<class 'int'>\n",
      "<class 'float'>\n",
      "<class 'bool'>\n"
     ]
    }
   ],
   "source": [
    "#\n",
    "# 1\n",
    "print(\"welcome\")\n",
    "\n",
    "#2\n",
    "name = \"Meshal Alsanari\"\n",
    "age = 25\n",
    "height = 163.0\n",
    "student = True\n",
    "\n",
    "#3\n",
    "print(type(name))\n",
    "print(type(age))\n",
    "print(type(height))\n",
    "print(type(student))\n"
   ]
  },
  {
   "cell_type": "markdown",
   "metadata": {},
   "source": [
    "### Task 2\n",
    " 1. Create a list of 5 favorite fruits.\n",
    " 2. Create a list with the price of each fruit.\n",
    " 3. Print the data types of these lists."
   ]
  },
  {
   "cell_type": "code",
   "execution_count": null,
   "metadata": {},
   "outputs": [],
   "source": [
    "#1\n",
    "x = [\"orange\",\"apple\",\"mango\",\"banana\",\"kiwi\"]\n",
    "\n",
    "#2\n",
    "y = [10,6,12,4,6]\n",
    "\n",
    "#3\n",
    "print(type(x))\n",
    "print(type(y))"
   ]
  },
  {
   "cell_type": "markdown",
   "metadata": {},
   "source": [
    "### Task 3\n",
    "1. Print the names of all fruits using a loop.\n",
    "2. Using a while loop and input built-in function, do the following:\n",
    "    - Ask the the user : \"what is the product of 7 * 24 ?\"\n",
    "    - check if the answer is right then exit the loop and print \"You answered this Question correctly\".\n",
    "    - if the answer is wrong, then print \"Your Answer is wrong try again..\" and show the user the question again.\n",
    "3. Build a program that takes one defined variable of type int, then it prints out the result formatted like the following pattern (if we give it 5 for example):\n",
    "\n",
    "    5 4 3 2 1\n",
    "\n",
    "    4 3 2 1\n",
    "\n",
    "    3 2 1\n",
    "\n",
    "    2 1\n",
    "    \n",
    "    1"
   ]
  },
  {
   "cell_type": "code",
   "execution_count": 4,
   "metadata": {},
   "outputs": [
    {
     "name": "stdout",
     "output_type": "stream",
     "text": [
      "orange\n",
      "apple\n",
      "mango\n",
      "banana\n",
      "kiwi\n"
     ]
    }
   ],
   "source": [
    "#1\n",
    "x = [\"orange\",\"apple\",\"mango\",\"banana\",\"kiwi\"]\n",
    "\n",
    "for r in x:\n",
    "    print(r)\n",
    "\n",
    "#2\n",
    "while True:\n",
    "    x = int(input(\"What is the product of 7 * 24?\"))\n",
    "    rightAnswer = 7 * 24\n",
    "\n",
    "    if x == rightAnswer:\n",
    "        print(\"You answered this Question correctly\")\n",
    "        break\n",
    "    else:\n",
    "        print(\"Your Answer is wrong try again\")\n",
    "\n",
    "#3\n",
    "x = 5\n",
    "for y in range(x,0,-1):\n",
    "    for z in range(y,0,-1):\n",
    "        print(z,end=\" \")\n",
    "    print(\"\")\n",
    "\n"
   ]
  },
  {
   "cell_type": "markdown",
   "metadata": {},
   "source": [
    "### Task 4\n",
    "You want to recommend a movie to a friend based on the rating and popularity. To accomplish this do the following:\n",
    "\n",
    "- Create a variable for the movie (choose any movie you like).\n",
    "- Create a variable of type int to hold the rating of the movie out of 5. Give this movie rate = 3\n",
    "- Create a popularity score of type float, let it be 72.65\n",
    "- Using an if statement:\n",
    "    - Check if the movie rating is 4 or greater and the popularity is greater than 80, print \"Highly recommended\".\n",
    "    - Else if the movie rating is 3 or greater and the popularity is greater than 70, print \"I recommended it, It is good\".\n",
    "    - Else if the movie rating is 2 or less and the popularity is greater than 60, print \"You should check it out!\".\n",
    "    - Else the movie rating is 2 or less and the popularity is less than 50, print \"Don't watch it, It is a waste of time\"."
   ]
  },
  {
   "cell_type": "code",
   "execution_count": null,
   "metadata": {},
   "outputs": [],
   "source": [
    "movie = \"Interstellar\"\n",
    "rating = 3\n",
    "popularity_score = 72.65\n",
    "\n",
    "if rating >= 4 and popularity_score > 80:\n",
    "    print(\"Highly recommended\")\n",
    "elif rating >= 3 and popularity_score > 70:\n",
    "    print(\"I recommended it, it is good\")\n",
    "elif rating <= 2 and popularity_score > 60:\n",
    "    print(\"You should check it out!\")\n",
    "elif rating <= 2 and popularity_score < 50:\n",
    "    print(\"Don't watch it, it is a waste of time\")"
   ]
  }
 ],
 "metadata": {
  "kernelspec": {
   "display_name": "base",
   "language": "python",
   "name": "python3"
  },
  "language_info": {
   "codemirror_mode": {
    "name": "ipython",
    "version": 3
   },
   "file_extension": ".py",
   "mimetype": "text/x-python",
   "name": "python",
   "nbconvert_exporter": "python",
   "pygments_lexer": "ipython3",
   "version": "3.12.4"
  }
 },
 "nbformat": 4,
 "nbformat_minor": 2
}
