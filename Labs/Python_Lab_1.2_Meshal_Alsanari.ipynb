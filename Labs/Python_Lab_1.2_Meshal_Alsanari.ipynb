{
 "cells": [
  {
   "cell_type": "markdown",
   "metadata": {},
   "source": [
    "# Python_Lab_1.2"
   ]
  },
  {
   "cell_type": "markdown",
   "metadata": {},
   "source": [
    "### Task 1: \n",
    "1. Create a tuple with the following details:\n",
    "    - Your favorite movie (string)\n",
    "    - The year it was released (integer)\n",
    "    - Its rating out of 10 (float)\n",
    "    - Whether you have watched it (boolean)\n",
    "2. Print the detailes"
   ]
  },
  {
   "cell_type": "code",
   "execution_count": 1,
   "metadata": {},
   "outputs": [
    {
     "name": "stdout",
     "output_type": "stream",
     "text": [
      "hi\n"
     ]
    }
   ],
   "source": [
    "#1\n",
    "favoriteMovie = (\"Interstellar\", 2014, 8.6, True)\n",
    "print(\"Favorite Movie:\", favoriteMovie[0])\n",
    "print(\"Year Released:\", favoriteMovie[1])\n",
    "print(\"Rating out of 10:\", favoriteMovie[2])\n",
    "print(\"Have you watched it?\", favoriteMovie[3])"
   ]
  },
  {
   "cell_type": "markdown",
   "metadata": {},
   "source": [
    "### Task 2:\n",
    "1. Create a set of 5 favorite colors.\n",
    "2. Print all the colors"
   ]
  },
  {
   "cell_type": "code",
   "execution_count": null,
   "metadata": {},
   "outputs": [],
   "source": [
    "color = set([\"red\",\"blue\",\"green\",\"black\",\"purple\"])\n",
    "print(color)"
   ]
  },
  {
   "cell_type": "markdown",
   "metadata": {},
   "source": [
    "### Task 3:\n",
    "1. Create a dictionary to store information about 3 friends (name as key and a tuple with age and favorite hobby as value).\n",
    "2. Print the details of all friends."
   ]
  },
  {
   "cell_type": "code",
   "execution_count": null,
   "metadata": {},
   "outputs": [],
   "source": [
    "friends = {\"Ahmed\":[20,\"gaming\"],\n",
    "           \"mehsal\":[24,\"reading\"],\n",
    "           \"rashid\":[30,\"dancing\"]\n",
    "          }\n",
    "\n",
    "print(friends)"
   ]
  },
  {
   "cell_type": "markdown",
   "metadata": {},
   "source": [
    "### Task 4:\n",
    "1. Check if you have watched the movie and print an appropriate message.\n",
    "1. Check if a specific color is in your favorite colors set and print its availability status."
   ]
  },
  {
   "cell_type": "code",
   "execution_count": null,
   "metadata": {},
   "outputs": [],
   "source": [
    "#1\n",
    "Movie = \"Interstellar\"\n",
    "Watched = True \n",
    "\n",
    "if Watched == True:\n",
    "    print(f\"you have watched the greatest {Movie} film in history\")\n",
    "else:\n",
    "    print(f\"what are you doing?, you didn't watch {Movie} yeet??\")\n",
    "\n",
    "#2\n",
    "BestColors = {\"red\",\"blue\",\"green\",\"black\",\"purple\"}\n",
    "colorTest = \"red\"\n",
    "\n",
    "if colorTest in BestColors:\n",
    "    print(f\"yes {colorTest} is on it\")\n",
    "else:\n",
    "    print(f\"no {colorTest} is not there\")\n"
   ]
  },
  {
   "cell_type": "markdown",
   "metadata": {},
   "source": []
  }
 ],
 "metadata": {
  "kernelspec": {
   "display_name": "base",
   "language": "python",
   "name": "python3"
  },
  "language_info": {
   "codemirror_mode": {
    "name": "ipython",
    "version": 3
   },
   "file_extension": ".py",
   "mimetype": "text/x-python",
   "name": "python",
   "nbconvert_exporter": "python",
   "pygments_lexer": "ipython3",
   "version": "3.12.4"
  }
 },
 "nbformat": 4,
 "nbformat_minor": 2
}
